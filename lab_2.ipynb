{
  "nbformat": 4,
  "nbformat_minor": 0,
  "metadata": {
    "colab": {
      "provenance": [],
      "authorship_tag": "ABX9TyOsTCJUedoWg2lEX9Hqpjla",
      "include_colab_link": true
    },
    "kernelspec": {
      "name": "python3",
      "display_name": "Python 3"
    },
    "language_info": {
      "name": "python"
    }
  },
  "cells": [
    {
      "cell_type": "markdown",
      "metadata": {
        "id": "view-in-github",
        "colab_type": "text"
      },
      "source": [
        "<a href=\"https://colab.research.google.com/github/omsai1682/Python-Lab/blob/main/lab_2.ipynb\" target=\"_parent\"><img src=\"https://colab.research.google.com/assets/colab-badge.svg\" alt=\"Open In Colab\"/></a>"
      ]
    },
    {
      "cell_type": "markdown",
      "source": [
        "NUMPY and PANDAS"
      ],
      "metadata": {
        "id": "Xs9Uz2Ns3G-C"
      }
    },
    {
      "cell_type": "code",
      "execution_count": 4,
      "metadata": {
        "id": "diSiLCv2zdl7"
      },
      "outputs": [],
      "source": [
        "import numpy as np\n",
        "import pandas as pd\n"
      ]
    },
    {
      "cell_type": "markdown",
      "source": [
        "Create a Numpy Array"
      ],
      "metadata": {
        "id": "_QxVnAA832ga"
      }
    },
    {
      "cell_type": "code",
      "source": [
        "arr =np.array([10,20,30,40,50])\n",
        "print('Original Array:',arr)"
      ],
      "metadata": {
        "colab": {
          "base_uri": "https://localhost:8080/"
        },
        "id": "iZag5Cvr3TT7",
        "outputId": "15f25966-1046-4ea5-b453-66d5d3c5c458"
      },
      "execution_count": 2,
      "outputs": [
        {
          "output_type": "stream",
          "name": "stdout",
          "text": [
            "Original Array: [10 20 30 40 50]\n"
          ]
        }
      ]
    },
    {
      "cell_type": "markdown",
      "source": [
        "Manipulate the Numpy Array"
      ],
      "metadata": {
        "id": "W1k0zzQu4gX1"
      }
    },
    {
      "cell_type": "code",
      "source": [
        "print(arr+5)\n",
        "print(arr*2)\n",
        "print(arr[arr>25])"
      ],
      "metadata": {
        "colab": {
          "base_uri": "https://localhost:8080/"
        },
        "id": "QH570Wbg4EEH",
        "outputId": "d5257fad-3d08-4ded-d191-d77850d32baa"
      },
      "execution_count": 5,
      "outputs": [
        {
          "output_type": "stream",
          "name": "stdout",
          "text": [
            "[15 25 35 45 55]\n",
            "[ 20  40  60  80 100]\n",
            "[30 40 50]\n"
          ]
        }
      ]
    },
    {
      "cell_type": "markdown",
      "source": [
        "Create a Pandas Dataframe"
      ],
      "metadata": {
        "id": "Rqp0f-ys6KUy"
      }
    },
    {
      "cell_type": "code",
      "source": [
        "# Create a dictationary for the data\n",
        "data ={\n",
        "    'Name':['Alice','Bob','Charlie','David'],\n",
        "    'Age':[25,30,35,40],\n",
        "    'score':[85.5,92.0,88.0,76.5]\n",
        "}\n",
        "\n",
        "# Create Dataframe\n",
        "df = pd.DataFrame(data)\n",
        "print(\"\\nOriginal Dataframe:\\n\",df)\n",
        "\n"
      ],
      "metadata": {
        "colab": {
          "base_uri": "https://localhost:8080/"
        },
        "id": "gMoeLThF4qk0",
        "outputId": "dc6e1f41-770f-42c9-da4a-6505106d7960"
      },
      "execution_count": 6,
      "outputs": [
        {
          "output_type": "stream",
          "name": "stdout",
          "text": [
            "\n",
            "Original Dataframe:\n",
            "       Name  Age  score\n",
            "0    Alice   25   85.5\n",
            "1      Bob   30   92.0\n",
            "2  Charlie   35   88.0\n",
            "3    David   40   76.5\n"
          ]
        }
      ]
    },
    {
      "cell_type": "markdown",
      "source": [
        "Manipulate the Dataframe"
      ],
      "metadata": {
        "id": "oU_D5VSv7dQg"
      }
    },
    {
      "cell_type": "code",
      "source": [
        "# Add a new column 'passed' based on score\n",
        "df['passed']=df['score']>=80\n",
        "print(\"\\nDataframe after adding 'passed' column:\\n\",df)\n",
        "\n",
        "#Filter rows where Age>30\n",
        "older_student=df[df['Age']>30]\n",
        "print(\"\\nstudents older than 30:\\n\",older_student)\n",
        "\n",
        "# Calculate average score\n",
        "average_score=df['score'].mean()\n",
        "print(\"\\nAverage Score:\",average_score)"
      ],
      "metadata": {
        "colab": {
          "base_uri": "https://localhost:8080/"
        },
        "id": "AYvp23RK7ebg",
        "outputId": "fc9b3994-9828-47de-8111-2b179f444b0c"
      },
      "execution_count": 7,
      "outputs": [
        {
          "output_type": "stream",
          "name": "stdout",
          "text": [
            "\n",
            "Dataframe after adding 'passed' column:\n",
            "       Name  Age  score  passed\n",
            "0    Alice   25   85.5    True\n",
            "1      Bob   30   92.0    True\n",
            "2  Charlie   35   88.0    True\n",
            "3    David   40   76.5   False\n",
            "\n",
            "students older than 30:\n",
            "       Name  Age  score  passed\n",
            "2  Charlie   35   88.0    True\n",
            "3    David   40   76.5   False\n",
            "\n",
            "Average Score: 85.5\n"
          ]
        }
      ]
    }
  ]
}