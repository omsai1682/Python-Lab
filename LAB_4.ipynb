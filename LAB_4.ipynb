{
  "nbformat": 4,
  "nbformat_minor": 0,
  "metadata": {
    "colab": {
      "provenance": [],
      "authorship_tag": "ABX9TyNAPAQjhl9aqlUaw8wdKKfR",
      "include_colab_link": true
    },
    "kernelspec": {
      "name": "python3",
      "display_name": "Python 3"
    },
    "language_info": {
      "name": "python"
    }
  },
  "cells": [
    {
      "cell_type": "markdown",
      "metadata": {
        "id": "view-in-github",
        "colab_type": "text"
      },
      "source": [
        "<a href=\"https://colab.research.google.com/github/omsai1682/Python-Lab/blob/main/LAB_4.ipynb\" target=\"_parent\"><img src=\"https://colab.research.google.com/assets/colab-badge.svg\" alt=\"Open In Colab\"/></a>"
      ]
    },
    {
      "cell_type": "code",
      "source": [
        "import pandas as pd"
      ],
      "metadata": {
        "id": "tCp1fCrb6NFm"
      },
      "execution_count": 4,
      "outputs": []
    },
    {
      "cell_type": "code",
      "source": [
        "data = {\n",
        "\"User_ID\": [101, 102, 103, 104, 105],\n",
        "\"Course_Name\": [\n",
        "\"Python for Data Science\",\n",
        "\"Python for Data Science\",\n",
        "\"Data Structures\",\n",
        "\"Python for Data Science\",\n",
        "\"Machine Learning\"\n",
        "],\n",
        "\"Rating\": [5, None, 3, 4, 5],\n",
        "\"Feedback\": [\n",
        "\"Great course, very practical!\",\n",
        "\"Loved it but missed some parts\",\n",
        "\"Good intro to DS\",\n",
        "\"Well explained and detailed\",\n",
        "\"Excellent ML content\"\n",
        "],\n",
        "\"Date\": [\n",
        "\"2025-08-01\",\n",
        "\"2025-08-05\",\n",
        "\"2025-08-07\",\n",
        "\"2025-08-10\",\n",
        "\"2025-08-15\"\n",
        "]\n",
        "}\n"
      ],
      "metadata": {
        "id": "bDRH2Bxo6UXf"
      },
      "execution_count": 5,
      "outputs": []
    },
    {
      "cell_type": "code",
      "source": [
        "df = pd.DataFrame(data)"
      ],
      "metadata": {
        "id": "Jtqdbs-w6juO"
      },
      "execution_count": 15,
      "outputs": []
    },
    {
      "cell_type": "code",
      "source": [
        "df = df.dropna(subset=[\"Rating\"])"
      ],
      "metadata": {
        "id": "uSnAEOUv7nn8"
      },
      "execution_count": 16,
      "outputs": []
    },
    {
      "cell_type": "code",
      "source": [
        "filtered_feedback = df[\n",
        "(df[\"Course_Name\"] == \"Python for Data Science\") &\n",
        "(df[\"Rating\"] >= 4)\n",
        "]"
      ],
      "metadata": {
        "id": "CPRaRwbb6sIs"
      },
      "execution_count": 14,
      "outputs": []
    },
    {
      "cell_type": "code",
      "source": [
        "for _, row in filtered_feedback.iterrows():\n",
        "  print(f\"User: {row['User_ID']} | Feedback: {row['Feedback']}\")\n"
      ],
      "metadata": {
        "colab": {
          "base_uri": "https://localhost:8080/"
        },
        "id": "ySVsNGta6vR2",
        "outputId": "162a813a-9f34-43d4-cf01-76cf6841916d"
      },
      "execution_count": 11,
      "outputs": [
        {
          "output_type": "stream",
          "name": "stdout",
          "text": [
            "User: 101 | Feedback: Great course, very practical!\n",
            "User: 104 | Feedback: Well explained and detailed\n"
          ]
        }
      ]
    },
    {
      "cell_type": "code",
      "source": [],
      "metadata": {
        "id": "qfVxeQas7M9q"
      },
      "execution_count": null,
      "outputs": []
    },
    {
      "cell_type": "code",
      "source": [
        "import pandas as pd"
      ],
      "metadata": {
        "id": "F8rAadHU7NaB"
      },
      "execution_count": 12,
      "outputs": []
    },
    {
      "cell_type": "code",
      "source": [
        "data = {\n",
        "\"Location\": [\"Hyderabad\", \"Delhi\", \"Mumbai\", \"Chennai\", \"Bengaluru\"],\n",
        "\"PM2.5\": [120, 180, None, 95, 200],\n",
        "\"PM10\": [250, None, 180, 140, 220],\n",
        "\"NO2\": [70, 90, 60, None, 100],\n",
        "\"SO2\": [15, 20, None, 10, 25],\n",
        "\"Date\": [\"2025-08-20\", \"2025-08-21\", \"2025-08-22\", \"2025-08-23\", \"2025-08-24\"]\n",
        "}"
      ],
      "metadata": {
        "id": "pXxqH0EL7yQY"
      },
      "execution_count": 23,
      "outputs": []
    },
    {
      "cell_type": "code",
      "source": [
        "df = pd.DataFrame(data)"
      ],
      "metadata": {
        "id": "pLMQ_2C_73FP"
      },
      "execution_count": 24,
      "outputs": []
    },
    {
      "cell_type": "code",
      "source": [
        "print(\"Original Data:\\n\", df, \"\\n\")"
      ],
      "metadata": {
        "colab": {
          "base_uri": "https://localhost:8080/"
        },
        "id": "ACsC4XJQ8GEr",
        "outputId": "e8e8061b-8e23-4ac1-ca6c-13080883e4da"
      },
      "execution_count": 25,
      "outputs": [
        {
          "output_type": "stream",
          "name": "stdout",
          "text": [
            "Original Data:\n",
            "     Location  PM2.5   PM10    NO2   SO2        Date\n",
            "0  Hyderabad  120.0  250.0   70.0  15.0  2025-08-20\n",
            "1      Delhi  180.0    NaN   90.0  20.0  2025-08-21\n",
            "2     Mumbai    NaN  180.0   60.0   NaN  2025-08-22\n",
            "3    Chennai   95.0  140.0    NaN  10.0  2025-08-23\n",
            "4  Bengaluru  200.0  220.0  100.0  25.0  2025-08-24 \n",
            "\n"
          ]
        }
      ]
    },
    {
      "cell_type": "code",
      "source": [
        "df = df.fillna(method=\"ffill\")"
      ],
      "metadata": {
        "colab": {
          "base_uri": "https://localhost:8080/"
        },
        "id": "3hokktXx8v2S",
        "outputId": "8f7b3ddb-fff6-4625-e48a-f3180c76660e"
      },
      "execution_count": 26,
      "outputs": [
        {
          "output_type": "stream",
          "name": "stderr",
          "text": [
            "/tmp/ipython-input-567689999.py:1: FutureWarning: DataFrame.fillna with 'method' is deprecated and will raise in a future version. Use obj.ffill() or obj.bfill() instead.\n",
            "  df = df.fillna(method=\"ffill\")\n"
          ]
        }
      ]
    },
    {
      "cell_type": "code",
      "source": [
        "print(\"After Forward Fill:\\n\", df, \"\\n\")"
      ],
      "metadata": {
        "colab": {
          "base_uri": "https://localhost:8080/"
        },
        "id": "WRCPltws83jq",
        "outputId": "18bde169-391e-4cf7-a869-3a1f059d1551"
      },
      "execution_count": 27,
      "outputs": [
        {
          "output_type": "stream",
          "name": "stdout",
          "text": [
            "After Forward Fill:\n",
            "     Location  PM2.5   PM10    NO2   SO2        Date\n",
            "0  Hyderabad  120.0  250.0   70.0  15.0  2025-08-20\n",
            "1      Delhi  180.0  250.0   90.0  20.0  2025-08-21\n",
            "2     Mumbai  180.0  180.0   60.0  20.0  2025-08-22\n",
            "3    Chennai   95.0  140.0   60.0  10.0  2025-08-23\n",
            "4  Bengaluru  200.0  220.0  100.0  25.0  2025-08-24 \n",
            "\n"
          ]
        }
      ]
    },
    {
      "cell_type": "code",
      "source": [
        "polluted_days = df[(df[\"PM2.5\"] > 150) & (df[\"NO2\"] > 80)]"
      ],
      "metadata": {
        "id": "YN5l97-E9Dgt"
      },
      "execution_count": 28,
      "outputs": []
    },
    {
      "cell_type": "code",
      "source": [
        "print(\"Polluted Days (PM2.5 > 150 and NO2 > 80):\\n\", polluted_days)"
      ],
      "metadata": {
        "id": "VIfDdDo79HnJ",
        "outputId": "36769900-246e-4138-b17a-7f2e17251e25",
        "colab": {
          "base_uri": "https://localhost:8080/"
        }
      },
      "execution_count": 29,
      "outputs": [
        {
          "output_type": "stream",
          "name": "stdout",
          "text": [
            "Polluted Days (PM2.5 > 150 and NO2 > 80):\n",
            "     Location  PM2.5   PM10    NO2   SO2        Date\n",
            "1      Delhi  180.0  250.0   90.0  20.0  2025-08-21\n",
            "4  Bengaluru  200.0  220.0  100.0  25.0  2025-08-24\n"
          ]
        }
      ]
    }
  ]
}